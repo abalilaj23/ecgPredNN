{
 "cells": [
  {
   "cell_type": "markdown",
   "id": "4555d774-21db-4a69-8909-7dc903cc8b48",
   "metadata": {},
   "source": [
    "## Classifying Abnormal ECGs: Classification Neural Network Model\n",
    "\n",
    "This project uses the ECG5000 dataset. The model uses the data to train a model to detect anomalies on the scans. The dependent variable is a binary variable where 1 indicates a normal scan, and 0 indicates an anomaly. "
   ]
  },
  {
   "cell_type": "markdown",
   "id": "c88cd9f6-aac3-4674-ac01-587b35e2c751",
   "metadata": {},
   "source": [
    "#### Introduction: Packages and Data"
   ]
  },
  {
   "cell_type": "code",
   "execution_count": 2,
   "id": "f7810997-b47b-4110-acd2-dfbddd1423ce",
   "metadata": {},
   "outputs": [],
   "source": [
    "# create an arrey to use to set names to the columns\n",
    "names=[]\n",
    "for i in range(140): #total variables\n",
    "    names.append(i)\n",
    "names.append('Target') #the dependent variable\n"
   ]
  },
  {
   "cell_type": "code",
   "execution_count": 1,
   "id": "9c593724-7200-4069-b8f4-44f9e3308c5b",
   "metadata": {},
   "outputs": [],
   "source": [
    "#import necessary modules\n",
    "\n",
    "import tensorflow as tf\n",
    "from tensorflow import keras\n",
    "import numpy as np\n",
    "import pandas as pd\n",
    "import matplotlib.pyplot as plt\n",
    "import sklearn\n",
    "from sklearn.model_selection import train_test_split\n",
    "\n",
    "#I will also set the seeds of different random number generators to make sure who get the same results every time\n",
    "tf.random.set_seed(42)\n",
    "\n",
    "#no warnings for chained assignments. I know, I know, but okay\n",
    "\n",
    "pd.options.mode.chained_assignment= None"
   ]
  },
  {
   "cell_type": "code",
   "execution_count": 3,
   "id": "064032e1-7b34-49e1-b025-31e9c605a30e",
   "metadata": {},
   "outputs": [],
   "source": [
    "#import data\n",
    "df = pd.read_csv(\"http://storage.googleapis.com/download.tensorflow.org/data/ecg.csv\", names = names)"
   ]
  },
  {
   "cell_type": "markdown",
   "id": "c874cac5-2732-4855-9811-a83ffb39fc1a",
   "metadata": {},
   "source": [
    "##### Explore Data"
   ]
  },
  {
   "cell_type": "code",
   "execution_count": 4,
   "id": "3b1a1610-6f82-4392-9826-75f6c4aafe94",
   "metadata": {},
   "outputs": [
    {
     "data": {
      "text/plain": [
       "(4998, 141)"
      ]
     },
     "execution_count": 4,
     "metadata": {},
     "output_type": "execute_result"
    }
   ],
   "source": [
    "df.shape"
   ]
  },
  {
   "cell_type": "code",
   "execution_count": 5,
   "id": "0049b299-82e3-4311-9f18-bba8e9ff2f13",
   "metadata": {},
   "outputs": [
    {
     "data": {
      "text/html": [
       "<div>\n",
       "<style scoped>\n",
       "    .dataframe tbody tr th:only-of-type {\n",
       "        vertical-align: middle;\n",
       "    }\n",
       "\n",
       "    .dataframe tbody tr th {\n",
       "        vertical-align: top;\n",
       "    }\n",
       "\n",
       "    .dataframe thead th {\n",
       "        text-align: right;\n",
       "    }\n",
       "</style>\n",
       "<table border=\"1\" class=\"dataframe\">\n",
       "  <thead>\n",
       "    <tr style=\"text-align: right;\">\n",
       "      <th></th>\n",
       "      <th>0</th>\n",
       "      <th>1</th>\n",
       "      <th>2</th>\n",
       "      <th>3</th>\n",
       "      <th>4</th>\n",
       "      <th>5</th>\n",
       "      <th>6</th>\n",
       "      <th>7</th>\n",
       "      <th>8</th>\n",
       "      <th>9</th>\n",
       "      <th>...</th>\n",
       "      <th>131</th>\n",
       "      <th>132</th>\n",
       "      <th>133</th>\n",
       "      <th>134</th>\n",
       "      <th>135</th>\n",
       "      <th>136</th>\n",
       "      <th>137</th>\n",
       "      <th>138</th>\n",
       "      <th>139</th>\n",
       "      <th>Target</th>\n",
       "    </tr>\n",
       "  </thead>\n",
       "  <tbody>\n",
       "    <tr>\n",
       "      <th>0</th>\n",
       "      <td>-0.112522</td>\n",
       "      <td>-2.827204</td>\n",
       "      <td>-3.773897</td>\n",
       "      <td>-4.349751</td>\n",
       "      <td>-4.376041</td>\n",
       "      <td>-3.474986</td>\n",
       "      <td>-2.181408</td>\n",
       "      <td>-1.818286</td>\n",
       "      <td>-1.250522</td>\n",
       "      <td>-0.477492</td>\n",
       "      <td>...</td>\n",
       "      <td>0.792168</td>\n",
       "      <td>0.933541</td>\n",
       "      <td>0.796958</td>\n",
       "      <td>0.578621</td>\n",
       "      <td>0.257740</td>\n",
       "      <td>0.228077</td>\n",
       "      <td>0.123431</td>\n",
       "      <td>0.925286</td>\n",
       "      <td>0.193137</td>\n",
       "      <td>1.0</td>\n",
       "    </tr>\n",
       "    <tr>\n",
       "      <th>1</th>\n",
       "      <td>-1.100878</td>\n",
       "      <td>-3.996840</td>\n",
       "      <td>-4.285843</td>\n",
       "      <td>-4.506579</td>\n",
       "      <td>-4.022377</td>\n",
       "      <td>-3.234368</td>\n",
       "      <td>-1.566126</td>\n",
       "      <td>-0.992258</td>\n",
       "      <td>-0.754680</td>\n",
       "      <td>0.042321</td>\n",
       "      <td>...</td>\n",
       "      <td>0.538356</td>\n",
       "      <td>0.656881</td>\n",
       "      <td>0.787490</td>\n",
       "      <td>0.724046</td>\n",
       "      <td>0.555784</td>\n",
       "      <td>0.476333</td>\n",
       "      <td>0.773820</td>\n",
       "      <td>1.119621</td>\n",
       "      <td>-1.436250</td>\n",
       "      <td>1.0</td>\n",
       "    </tr>\n",
       "    <tr>\n",
       "      <th>2</th>\n",
       "      <td>-0.567088</td>\n",
       "      <td>-2.593450</td>\n",
       "      <td>-3.874230</td>\n",
       "      <td>-4.584095</td>\n",
       "      <td>-4.187449</td>\n",
       "      <td>-3.151462</td>\n",
       "      <td>-1.742940</td>\n",
       "      <td>-1.490659</td>\n",
       "      <td>-1.183580</td>\n",
       "      <td>-0.394229</td>\n",
       "      <td>...</td>\n",
       "      <td>0.886073</td>\n",
       "      <td>0.531452</td>\n",
       "      <td>0.311377</td>\n",
       "      <td>-0.021919</td>\n",
       "      <td>-0.713683</td>\n",
       "      <td>-0.532197</td>\n",
       "      <td>0.321097</td>\n",
       "      <td>0.904227</td>\n",
       "      <td>-0.421797</td>\n",
       "      <td>1.0</td>\n",
       "    </tr>\n",
       "    <tr>\n",
       "      <th>3</th>\n",
       "      <td>0.490473</td>\n",
       "      <td>-1.914407</td>\n",
       "      <td>-3.616364</td>\n",
       "      <td>-4.318823</td>\n",
       "      <td>-4.268016</td>\n",
       "      <td>-3.881110</td>\n",
       "      <td>-2.993280</td>\n",
       "      <td>-1.671131</td>\n",
       "      <td>-1.333884</td>\n",
       "      <td>-0.965629</td>\n",
       "      <td>...</td>\n",
       "      <td>0.350816</td>\n",
       "      <td>0.499111</td>\n",
       "      <td>0.600345</td>\n",
       "      <td>0.842069</td>\n",
       "      <td>0.952074</td>\n",
       "      <td>0.990133</td>\n",
       "      <td>1.086798</td>\n",
       "      <td>1.403011</td>\n",
       "      <td>-0.383564</td>\n",
       "      <td>1.0</td>\n",
       "    </tr>\n",
       "    <tr>\n",
       "      <th>4</th>\n",
       "      <td>0.800232</td>\n",
       "      <td>-0.874252</td>\n",
       "      <td>-2.384761</td>\n",
       "      <td>-3.973292</td>\n",
       "      <td>-4.338224</td>\n",
       "      <td>-3.802422</td>\n",
       "      <td>-2.534510</td>\n",
       "      <td>-1.783423</td>\n",
       "      <td>-1.594450</td>\n",
       "      <td>-0.753199</td>\n",
       "      <td>...</td>\n",
       "      <td>1.148884</td>\n",
       "      <td>0.958434</td>\n",
       "      <td>1.059025</td>\n",
       "      <td>1.371682</td>\n",
       "      <td>1.277392</td>\n",
       "      <td>0.960304</td>\n",
       "      <td>0.971020</td>\n",
       "      <td>1.614392</td>\n",
       "      <td>1.421456</td>\n",
       "      <td>1.0</td>\n",
       "    </tr>\n",
       "  </tbody>\n",
       "</table>\n",
       "<p>5 rows × 141 columns</p>\n",
       "</div>"
      ],
      "text/plain": [
       "          0         1         2         3         4         5         6  \\\n",
       "0 -0.112522 -2.827204 -3.773897 -4.349751 -4.376041 -3.474986 -2.181408   \n",
       "1 -1.100878 -3.996840 -4.285843 -4.506579 -4.022377 -3.234368 -1.566126   \n",
       "2 -0.567088 -2.593450 -3.874230 -4.584095 -4.187449 -3.151462 -1.742940   \n",
       "3  0.490473 -1.914407 -3.616364 -4.318823 -4.268016 -3.881110 -2.993280   \n",
       "4  0.800232 -0.874252 -2.384761 -3.973292 -4.338224 -3.802422 -2.534510   \n",
       "\n",
       "          7         8         9  ...       131       132       133       134  \\\n",
       "0 -1.818286 -1.250522 -0.477492  ...  0.792168  0.933541  0.796958  0.578621   \n",
       "1 -0.992258 -0.754680  0.042321  ...  0.538356  0.656881  0.787490  0.724046   \n",
       "2 -1.490659 -1.183580 -0.394229  ...  0.886073  0.531452  0.311377 -0.021919   \n",
       "3 -1.671131 -1.333884 -0.965629  ...  0.350816  0.499111  0.600345  0.842069   \n",
       "4 -1.783423 -1.594450 -0.753199  ...  1.148884  0.958434  1.059025  1.371682   \n",
       "\n",
       "        135       136       137       138       139  Target  \n",
       "0  0.257740  0.228077  0.123431  0.925286  0.193137     1.0  \n",
       "1  0.555784  0.476333  0.773820  1.119621 -1.436250     1.0  \n",
       "2 -0.713683 -0.532197  0.321097  0.904227 -0.421797     1.0  \n",
       "3  0.952074  0.990133  1.086798  1.403011 -0.383564     1.0  \n",
       "4  1.277392  0.960304  0.971020  1.614392  1.421456     1.0  \n",
       "\n",
       "[5 rows x 141 columns]"
      ]
     },
     "execution_count": 5,
     "metadata": {},
     "output_type": "execute_result"
    }
   ],
   "source": [
    "df.head()"
   ]
  },
  {
   "cell_type": "markdown",
   "id": "b4aa7ec9-7d70-401b-ae0b-f5be45dc9880",
   "metadata": {},
   "source": [
    "##### Data Preprocessing"
   ]
  },
  {
   "cell_type": "code",
   "execution_count": 6,
   "id": "a4846a83-ec50-4ded-8e5a-57436aa88769",
   "metadata": {},
   "outputs": [],
   "source": [
    "#this data has only numerical values. Let's store this into a variable\n",
    "numerics = names\n",
    "#remove the dependent variable\n",
    "numerics.remove('Target')"
   ]
  },
  {
   "cell_type": "code",
   "execution_count": 7,
   "id": "a768803d-36d4-4557-b680-6e850a00694a",
   "metadata": {},
   "outputs": [
    {
     "data": {
      "text/plain": [
       "Target\n",
       "1.0    0.584034\n",
       "0.0    0.415966\n",
       "Name: proportion, dtype: float64"
      ]
     },
     "execution_count": 7,
     "metadata": {},
     "output_type": "execute_result"
    }
   ],
   "source": [
    "#check out the frequency in dependent variable\n",
    "df.Target.value_counts(normalize = True)"
   ]
  },
  {
   "cell_type": "code",
   "execution_count": 8,
   "id": "01c21e26-a85f-4413-a7f0-904eda180c1f",
   "metadata": {},
   "outputs": [],
   "source": [
    "#extract the dependent variable\n",
    "y = df.pop(\"Target\")"
   ]
  },
  {
   "cell_type": "code",
   "execution_count": 9,
   "id": "9bf2605b-1f83-4725-a04f-22cde6740884",
   "metadata": {},
   "outputs": [],
   "source": [
    "#let's split the data into trian and test\n",
    "x_train, x_test, y_train, y_test = train_test_split(df, y, test_size = 0.2, stratify = y)"
   ]
  },
  {
   "cell_type": "code",
   "execution_count": 12,
   "id": "886375c8-0da5-4109-a0ea-924085aed5d0",
   "metadata": {},
   "outputs": [
    {
     "name": "stdout",
     "output_type": "stream",
     "text": [
      "0     -0.260572\n",
      "1     -1.649211\n",
      "2     -2.491260\n",
      "3     -3.121031\n",
      "4     -3.166600\n",
      "         ...   \n",
      "135   -0.762097\n",
      "136   -0.840353\n",
      "137   -0.649493\n",
      "138   -0.491006\n",
      "139   -0.714143\n",
      "Length: 140, dtype: float64 0      1.155185\n",
      "1      1.450316\n",
      "2      1.383637\n",
      "3      1.299958\n",
      "4      1.100034\n",
      "         ...   \n",
      "135    2.085562\n",
      "136    2.058611\n",
      "137    1.864145\n",
      "138    1.843986\n",
      "139    1.420016\n",
      "Length: 140, dtype: float64\n"
     ]
    }
   ],
   "source": [
    "#calculate mean and sd of the training set to use in normalization\n",
    "means = x_train[numerics].mean()\n",
    "sd = x_train[numerics].std()\n",
    "print(means, sd)"
   ]
  },
  {
   "cell_type": "code",
   "execution_count": 13,
   "id": "42d83fd8-d8ee-4d38-935d-48d81550f685",
   "metadata": {},
   "outputs": [],
   "source": [
    "#normalize train and test data\n",
    "x_train[numerics]= (x_train[numerics]-means)/sd\n",
    "x_test[numerics] = (x_test[numerics]- means)/sd"
   ]
  },
  {
   "cell_type": "code",
   "execution_count": 14,
   "id": "208c8573-1ba4-4d66-af99-24674caa4fab",
   "metadata": {},
   "outputs": [
    {
     "data": {
      "text/html": [
       "<div>\n",
       "<style scoped>\n",
       "    .dataframe tbody tr th:only-of-type {\n",
       "        vertical-align: middle;\n",
       "    }\n",
       "\n",
       "    .dataframe tbody tr th {\n",
       "        vertical-align: top;\n",
       "    }\n",
       "\n",
       "    .dataframe thead th {\n",
       "        text-align: right;\n",
       "    }\n",
       "</style>\n",
       "<table border=\"1\" class=\"dataframe\">\n",
       "  <thead>\n",
       "    <tr style=\"text-align: right;\">\n",
       "      <th></th>\n",
       "      <th>0</th>\n",
       "      <th>1</th>\n",
       "      <th>2</th>\n",
       "      <th>3</th>\n",
       "      <th>4</th>\n",
       "      <th>5</th>\n",
       "      <th>6</th>\n",
       "      <th>7</th>\n",
       "      <th>8</th>\n",
       "      <th>9</th>\n",
       "      <th>...</th>\n",
       "      <th>130</th>\n",
       "      <th>131</th>\n",
       "      <th>132</th>\n",
       "      <th>133</th>\n",
       "      <th>134</th>\n",
       "      <th>135</th>\n",
       "      <th>136</th>\n",
       "      <th>137</th>\n",
       "      <th>138</th>\n",
       "      <th>139</th>\n",
       "    </tr>\n",
       "  </thead>\n",
       "  <tbody>\n",
       "    <tr>\n",
       "      <th>979</th>\n",
       "      <td>1.373649</td>\n",
       "      <td>1.506701</td>\n",
       "      <td>0.451705</td>\n",
       "      <td>0.099906</td>\n",
       "      <td>-0.975350</td>\n",
       "      <td>-1.797949</td>\n",
       "      <td>-0.932111</td>\n",
       "      <td>-0.223318</td>\n",
       "      <td>-0.190879</td>\n",
       "      <td>0.379472</td>\n",
       "      <td>...</td>\n",
       "      <td>-1.060975</td>\n",
       "      <td>-0.611937</td>\n",
       "      <td>0.057910</td>\n",
       "      <td>0.373953</td>\n",
       "      <td>0.394787</td>\n",
       "      <td>0.735334</td>\n",
       "      <td>0.626456</td>\n",
       "      <td>0.287720</td>\n",
       "      <td>-0.314996</td>\n",
       "      <td>-0.012436</td>\n",
       "    </tr>\n",
       "    <tr>\n",
       "      <th>904</th>\n",
       "      <td>-0.790907</td>\n",
       "      <td>-0.860370</td>\n",
       "      <td>-0.591975</td>\n",
       "      <td>-0.724377</td>\n",
       "      <td>-0.961030</td>\n",
       "      <td>-0.840349</td>\n",
       "      <td>-0.321905</td>\n",
       "      <td>0.075100</td>\n",
       "      <td>-0.212495</td>\n",
       "      <td>0.009022</td>\n",
       "      <td>...</td>\n",
       "      <td>1.277287</td>\n",
       "      <td>1.109349</td>\n",
       "      <td>0.787323</td>\n",
       "      <td>0.428436</td>\n",
       "      <td>0.030654</td>\n",
       "      <td>-0.143496</td>\n",
       "      <td>-0.223377</td>\n",
       "      <td>-0.333752</td>\n",
       "      <td>-0.105748</td>\n",
       "      <td>-0.439091</td>\n",
       "    </tr>\n",
       "    <tr>\n",
       "      <th>638</th>\n",
       "      <td>1.174188</td>\n",
       "      <td>1.316739</td>\n",
       "      <td>1.014117</td>\n",
       "      <td>0.854376</td>\n",
       "      <td>0.033581</td>\n",
       "      <td>-0.835947</td>\n",
       "      <td>-1.090973</td>\n",
       "      <td>-0.767115</td>\n",
       "      <td>-0.882077</td>\n",
       "      <td>-0.867415</td>\n",
       "      <td>...</td>\n",
       "      <td>-0.117870</td>\n",
       "      <td>0.112402</td>\n",
       "      <td>0.562662</td>\n",
       "      <td>0.724825</td>\n",
       "      <td>0.643958</td>\n",
       "      <td>0.862708</td>\n",
       "      <td>0.821031</td>\n",
       "      <td>0.641297</td>\n",
       "      <td>0.267901</td>\n",
       "      <td>0.736437</td>\n",
       "    </tr>\n",
       "    <tr>\n",
       "      <th>397</th>\n",
       "      <td>0.411986</td>\n",
       "      <td>0.411685</td>\n",
       "      <td>0.260325</td>\n",
       "      <td>0.379317</td>\n",
       "      <td>0.393859</td>\n",
       "      <td>0.050228</td>\n",
       "      <td>-0.737198</td>\n",
       "      <td>-1.372282</td>\n",
       "      <td>-1.018703</td>\n",
       "      <td>-0.778479</td>\n",
       "      <td>...</td>\n",
       "      <td>0.149207</td>\n",
       "      <td>-0.063368</td>\n",
       "      <td>-0.369787</td>\n",
       "      <td>-0.540734</td>\n",
       "      <td>-0.822634</td>\n",
       "      <td>-1.135070</td>\n",
       "      <td>-1.550544</td>\n",
       "      <td>-1.578444</td>\n",
       "      <td>-1.327398</td>\n",
       "      <td>-0.592599</td>\n",
       "    </tr>\n",
       "    <tr>\n",
       "      <th>2885</th>\n",
       "      <td>1.443529</td>\n",
       "      <td>1.722608</td>\n",
       "      <td>1.260171</td>\n",
       "      <td>0.799672</td>\n",
       "      <td>-0.012034</td>\n",
       "      <td>-0.984821</td>\n",
       "      <td>-1.274751</td>\n",
       "      <td>-0.584974</td>\n",
       "      <td>-0.627524</td>\n",
       "      <td>-0.992454</td>\n",
       "      <td>...</td>\n",
       "      <td>-0.024504</td>\n",
       "      <td>0.119095</td>\n",
       "      <td>0.491418</td>\n",
       "      <td>0.736294</td>\n",
       "      <td>0.774439</td>\n",
       "      <td>1.060915</td>\n",
       "      <td>1.155874</td>\n",
       "      <td>1.314065</td>\n",
       "      <td>1.020131</td>\n",
       "      <td>1.358874</td>\n",
       "    </tr>\n",
       "  </tbody>\n",
       "</table>\n",
       "<p>5 rows × 140 columns</p>\n",
       "</div>"
      ],
      "text/plain": [
       "           0         1         2         3         4         5         6    \\\n",
       "979   1.373649  1.506701  0.451705  0.099906 -0.975350 -1.797949 -0.932111   \n",
       "904  -0.790907 -0.860370 -0.591975 -0.724377 -0.961030 -0.840349 -0.321905   \n",
       "638   1.174188  1.316739  1.014117  0.854376  0.033581 -0.835947 -1.090973   \n",
       "397   0.411986  0.411685  0.260325  0.379317  0.393859  0.050228 -0.737198   \n",
       "2885  1.443529  1.722608  1.260171  0.799672 -0.012034 -0.984821 -1.274751   \n",
       "\n",
       "           7         8         9    ...       130       131       132  \\\n",
       "979  -0.223318 -0.190879  0.379472  ... -1.060975 -0.611937  0.057910   \n",
       "904   0.075100 -0.212495  0.009022  ...  1.277287  1.109349  0.787323   \n",
       "638  -0.767115 -0.882077 -0.867415  ... -0.117870  0.112402  0.562662   \n",
       "397  -1.372282 -1.018703 -0.778479  ...  0.149207 -0.063368 -0.369787   \n",
       "2885 -0.584974 -0.627524 -0.992454  ... -0.024504  0.119095  0.491418   \n",
       "\n",
       "           133       134       135       136       137       138       139  \n",
       "979   0.373953  0.394787  0.735334  0.626456  0.287720 -0.314996 -0.012436  \n",
       "904   0.428436  0.030654 -0.143496 -0.223377 -0.333752 -0.105748 -0.439091  \n",
       "638   0.724825  0.643958  0.862708  0.821031  0.641297  0.267901  0.736437  \n",
       "397  -0.540734 -0.822634 -1.135070 -1.550544 -1.578444 -1.327398 -0.592599  \n",
       "2885  0.736294  0.774439  1.060915  1.155874  1.314065  1.020131  1.358874  \n",
       "\n",
       "[5 rows x 140 columns]"
      ]
     },
     "execution_count": 14,
     "metadata": {},
     "output_type": "execute_result"
    }
   ],
   "source": [
    "x_train.head()"
   ]
  },
  {
   "cell_type": "code",
   "execution_count": 15,
   "id": "5f1bcee8-996a-4935-8bd9-7bd1da86a1aa",
   "metadata": {},
   "outputs": [],
   "source": [
    "#convert both panda dataframes to numpy arrays to use for Keras and Tensorflow\n",
    "x_train = x_train.to_numpy()\n",
    "x_test = x_test.to_numpy()"
   ]
  },
  {
   "cell_type": "code",
   "execution_count": 16,
   "id": "fbadd8ca-67cf-4cfb-b831-d7b500213a35",
   "metadata": {},
   "outputs": [
    {
     "data": {
      "text/plain": [
       "((3998, 140), (3998,))"
      ]
     },
     "execution_count": 16,
     "metadata": {},
     "output_type": "execute_result"
    }
   ],
   "source": [
    "x_train.shape, y_train.shape"
   ]
  },
  {
   "cell_type": "code",
   "execution_count": 17,
   "id": "96a41aa4-40e2-4faa-a034-3d224f161098",
   "metadata": {},
   "outputs": [
    {
     "data": {
      "text/plain": [
       "((1000, 140), (1000,))"
      ]
     },
     "execution_count": 17,
     "metadata": {},
     "output_type": "execute_result"
    }
   ],
   "source": [
    "x_test.shape, y_test.shape"
   ]
  },
  {
   "cell_type": "markdown",
   "id": "f11bd236-6f0b-4651-944d-429a7ebedcc9",
   "metadata": {},
   "source": [
    "#### Build the Model"
   ]
  },
  {
   "cell_type": "code",
   "execution_count": 20,
   "id": "90ed02a5-5fa7-49a5-8dd2-05d3ba385fc8",
   "metadata": {},
   "outputs": [],
   "source": [
    "#define to columns to use in the input layer\n",
    "num_columns = x_train.shape[1]"
   ]
  },
  {
   "cell_type": "code",
   "execution_count": 22,
   "id": "e4159448-f612-4102-9c18-100ffd8b3290",
   "metadata": {},
   "outputs": [],
   "source": [
    "#define input layer\n",
    "input = keras.Input(shape=(num_columns,))\n",
    "\n",
    "#define hidden layer\n",
    "h = keras.layers.Dense(16, activation = \"relu\", name = \"Hidden-1\")(input)\n",
    "\n",
    "#define output layer\n",
    "\n",
    "output = keras.layers.Dense(1, activation = \"sigmoid\", name = \"Output\") (h)\n",
    "\n",
    "#Tel Keras what is what\n",
    "\n",
    "model = keras.Model(input, output)\n",
    "\n"
   ]
  },
  {
   "cell_type": "code",
   "execution_count": 23,
   "id": "8a3db0d2-9ae2-44b4-aa1c-e969cb5b5037",
   "metadata": {},
   "outputs": [
    {
     "data": {
      "text/html": [
       "<pre style=\"white-space:pre;overflow-x:auto;line-height:normal;font-family:Menlo,'DejaVu Sans Mono',consolas,'Courier New',monospace\"><span style=\"font-weight: bold\">Model: \"functional\"</span>\n",
       "</pre>\n"
      ],
      "text/plain": [
       "\u001b[1mModel: \"functional\"\u001b[0m\n"
      ]
     },
     "metadata": {},
     "output_type": "display_data"
    },
    {
     "data": {
      "text/html": [
       "<pre style=\"white-space:pre;overflow-x:auto;line-height:normal;font-family:Menlo,'DejaVu Sans Mono',consolas,'Courier New',monospace\">┏━━━━━━━━━━━━━━━━━━━━━━━━━━━━━━━━━━━━━━┳━━━━━━━━━━━━━━━━━━━━━━━━━━━━━┳━━━━━━━━━━━━━━━━━┓\n",
       "┃<span style=\"font-weight: bold\"> Layer (type)                         </span>┃<span style=\"font-weight: bold\"> Output Shape                </span>┃<span style=\"font-weight: bold\">         Param # </span>┃\n",
       "┡━━━━━━━━━━━━━━━━━━━━━━━━━━━━━━━━━━━━━━╇━━━━━━━━━━━━━━━━━━━━━━━━━━━━━╇━━━━━━━━━━━━━━━━━┩\n",
       "│ input_layer_2 (<span style=\"color: #0087ff; text-decoration-color: #0087ff\">InputLayer</span>)           │ (<span style=\"color: #00d7ff; text-decoration-color: #00d7ff\">None</span>, <span style=\"color: #00af00; text-decoration-color: #00af00\">140</span>)                 │               <span style=\"color: #00af00; text-decoration-color: #00af00\">0</span> │\n",
       "├──────────────────────────────────────┼─────────────────────────────┼─────────────────┤\n",
       "│ Hidden-1 (<span style=\"color: #0087ff; text-decoration-color: #0087ff\">Dense</span>)                     │ (<span style=\"color: #00d7ff; text-decoration-color: #00d7ff\">None</span>, <span style=\"color: #00af00; text-decoration-color: #00af00\">16</span>)                  │           <span style=\"color: #00af00; text-decoration-color: #00af00\">2,256</span> │\n",
       "├──────────────────────────────────────┼─────────────────────────────┼─────────────────┤\n",
       "│ Output (<span style=\"color: #0087ff; text-decoration-color: #0087ff\">Dense</span>)                       │ (<span style=\"color: #00d7ff; text-decoration-color: #00d7ff\">None</span>, <span style=\"color: #00af00; text-decoration-color: #00af00\">1</span>)                   │              <span style=\"color: #00af00; text-decoration-color: #00af00\">17</span> │\n",
       "└──────────────────────────────────────┴─────────────────────────────┴─────────────────┘\n",
       "</pre>\n"
      ],
      "text/plain": [
       "┏━━━━━━━━━━━━━━━━━━━━━━━━━━━━━━━━━━━━━━┳━━━━━━━━━━━━━━━━━━━━━━━━━━━━━┳━━━━━━━━━━━━━━━━━┓\n",
       "┃\u001b[1m \u001b[0m\u001b[1mLayer (type)                        \u001b[0m\u001b[1m \u001b[0m┃\u001b[1m \u001b[0m\u001b[1mOutput Shape               \u001b[0m\u001b[1m \u001b[0m┃\u001b[1m \u001b[0m\u001b[1m        Param #\u001b[0m\u001b[1m \u001b[0m┃\n",
       "┡━━━━━━━━━━━━━━━━━━━━━━━━━━━━━━━━━━━━━━╇━━━━━━━━━━━━━━━━━━━━━━━━━━━━━╇━━━━━━━━━━━━━━━━━┩\n",
       "│ input_layer_2 (\u001b[38;5;33mInputLayer\u001b[0m)           │ (\u001b[38;5;45mNone\u001b[0m, \u001b[38;5;34m140\u001b[0m)                 │               \u001b[38;5;34m0\u001b[0m │\n",
       "├──────────────────────────────────────┼─────────────────────────────┼─────────────────┤\n",
       "│ Hidden-1 (\u001b[38;5;33mDense\u001b[0m)                     │ (\u001b[38;5;45mNone\u001b[0m, \u001b[38;5;34m16\u001b[0m)                  │           \u001b[38;5;34m2,256\u001b[0m │\n",
       "├──────────────────────────────────────┼─────────────────────────────┼─────────────────┤\n",
       "│ Output (\u001b[38;5;33mDense\u001b[0m)                       │ (\u001b[38;5;45mNone\u001b[0m, \u001b[38;5;34m1\u001b[0m)                   │              \u001b[38;5;34m17\u001b[0m │\n",
       "└──────────────────────────────────────┴─────────────────────────────┴─────────────────┘\n"
      ]
     },
     "metadata": {},
     "output_type": "display_data"
    },
    {
     "data": {
      "text/html": [
       "<pre style=\"white-space:pre;overflow-x:auto;line-height:normal;font-family:Menlo,'DejaVu Sans Mono',consolas,'Courier New',monospace\"><span style=\"font-weight: bold\"> Total params: </span><span style=\"color: #00af00; text-decoration-color: #00af00\">2,273</span> (8.88 KB)\n",
       "</pre>\n"
      ],
      "text/plain": [
       "\u001b[1m Total params: \u001b[0m\u001b[38;5;34m2,273\u001b[0m (8.88 KB)\n"
      ]
     },
     "metadata": {},
     "output_type": "display_data"
    },
    {
     "data": {
      "text/html": [
       "<pre style=\"white-space:pre;overflow-x:auto;line-height:normal;font-family:Menlo,'DejaVu Sans Mono',consolas,'Courier New',monospace\"><span style=\"font-weight: bold\"> Trainable params: </span><span style=\"color: #00af00; text-decoration-color: #00af00\">2,273</span> (8.88 KB)\n",
       "</pre>\n"
      ],
      "text/plain": [
       "\u001b[1m Trainable params: \u001b[0m\u001b[38;5;34m2,273\u001b[0m (8.88 KB)\n"
      ]
     },
     "metadata": {},
     "output_type": "display_data"
    },
    {
     "data": {
      "text/html": [
       "<pre style=\"white-space:pre;overflow-x:auto;line-height:normal;font-family:Menlo,'DejaVu Sans Mono',consolas,'Courier New',monospace\"><span style=\"font-weight: bold\"> Non-trainable params: </span><span style=\"color: #00af00; text-decoration-color: #00af00\">0</span> (0.00 B)\n",
       "</pre>\n"
      ],
      "text/plain": [
       "\u001b[1m Non-trainable params: \u001b[0m\u001b[38;5;34m0\u001b[0m (0.00 B)\n"
      ]
     },
     "metadata": {},
     "output_type": "display_data"
    }
   ],
   "source": [
    "#lets check the model out\n",
    "model.summary()"
   ]
  },
  {
   "cell_type": "code",
   "execution_count": 28,
   "id": "335dd4cb-acda-450b-a521-7a0bddd0338b",
   "metadata": {},
   "outputs": [
    {
     "name": "stdout",
     "output_type": "stream",
     "text": [
      "Requirement already satisfied: pydot in c:\\users\\abalilaj\\appdata\\local\\anaconda3\\envs\\tf_env1\\lib\\site-packages (3.0.4)\n",
      "Requirement already satisfied: pyparsing>=3.0.9 in c:\\users\\abalilaj\\appdata\\local\\anaconda3\\envs\\tf_env1\\lib\\site-packages (from pydot) (3.2.0)\n"
     ]
    }
   ],
   "source": [
    "#lets visualize it\n",
    "!pip install pydot"
   ]
  },
  {
   "cell_type": "code",
   "execution_count": 30,
   "id": "3d98d981-9461-45ac-b8fb-76bd843c7b0b",
   "metadata": {},
   "outputs": [
    {
     "name": "stdout",
     "output_type": "stream",
     "text": [
      "Collecting graphviz\n",
      "  Downloading graphviz-0.20.3-py3-none-any.whl.metadata (12 kB)\n",
      "Downloading graphviz-0.20.3-py3-none-any.whl (47 kB)\n",
      "Installing collected packages: graphviz\n",
      "Successfully installed graphviz-0.20.3\n"
     ]
    }
   ],
   "source": [
    "!pip install graphviz"
   ]
  },
  {
   "cell_type": "code",
   "execution_count": 33,
   "id": "7e936252-4ec3-4470-a67d-a6ea98319657",
   "metadata": {},
   "outputs": [
    {
     "name": "stdout",
     "output_type": "stream",
     "text": [
      "You must install pydot (`pip install pydot`) for `plot_model` to work.\n"
     ]
    }
   ],
   "source": [
    "from tensorflow.keras.utils import plot_model\n",
    "keras.utils.plot_model(model, show_shapes = True)"
   ]
  },
  {
   "cell_type": "markdown",
   "id": "3eb3b9a3-2d84-4f36-a14f-dac33feece82",
   "metadata": {},
   "source": [
    "#### Optimize and Train the Model "
   ]
  },
  {
   "cell_type": "code",
   "execution_count": 35,
   "id": "498c8f35-d631-4f3a-9659-82dc2ccbf218",
   "metadata": {},
   "outputs": [],
   "source": [
    "model.compile(optimizer = \"adam\", loss = \"binary_crossentropy\", metrics = [\"accuracy\"])"
   ]
  },
  {
   "cell_type": "code",
   "execution_count": 36,
   "id": "aa66a84e-c2f4-4017-8005-0a91753e7f8a",
   "metadata": {},
   "outputs": [
    {
     "name": "stdout",
     "output_type": "stream",
     "text": [
      "Epoch 1/50\n",
      "\u001b[1m100/100\u001b[0m \u001b[32m━━━━━━━━━━━━━━━━━━━━\u001b[0m\u001b[37m\u001b[0m \u001b[1m3s\u001b[0m 10ms/step - accuracy: 0.7738 - loss: 0.4402 - val_accuracy: 0.9837 - val_loss: 0.0770\n",
      "Epoch 2/50\n",
      "\u001b[1m100/100\u001b[0m \u001b[32m━━━━━━━━━━━━━━━━━━━━\u001b[0m\u001b[37m\u001b[0m \u001b[1m1s\u001b[0m 6ms/step - accuracy: 0.9908 - loss: 0.0447 - val_accuracy: 0.9875 - val_loss: 0.0543\n",
      "Epoch 3/50\n",
      "\u001b[1m100/100\u001b[0m \u001b[32m━━━━━━━━━━━━━━━━━━━━\u001b[0m\u001b[37m\u001b[0m \u001b[1m1s\u001b[0m 7ms/step - accuracy: 0.9946 - loss: 0.0300 - val_accuracy: 0.9887 - val_loss: 0.0462\n",
      "Epoch 4/50\n",
      "\u001b[1m100/100\u001b[0m \u001b[32m━━━━━━━━━━━━━━━━━━━━\u001b[0m\u001b[37m\u001b[0m \u001b[1m1s\u001b[0m 6ms/step - accuracy: 0.9953 - loss: 0.0247 - val_accuracy: 0.9887 - val_loss: 0.0433\n",
      "Epoch 5/50\n",
      "\u001b[1m100/100\u001b[0m \u001b[32m━━━━━━━━━━━━━━━━━━━━\u001b[0m\u001b[37m\u001b[0m \u001b[1m1s\u001b[0m 7ms/step - accuracy: 0.9955 - loss: 0.0220 - val_accuracy: 0.9900 - val_loss: 0.0417\n",
      "Epoch 6/50\n",
      "\u001b[1m100/100\u001b[0m \u001b[32m━━━━━━━━━━━━━━━━━━━━\u001b[0m\u001b[37m\u001b[0m \u001b[1m1s\u001b[0m 6ms/step - accuracy: 0.9955 - loss: 0.0203 - val_accuracy: 0.9900 - val_loss: 0.0403\n",
      "Epoch 7/50\n",
      "\u001b[1m100/100\u001b[0m \u001b[32m━━━━━━━━━━━━━━━━━━━━\u001b[0m\u001b[37m\u001b[0m \u001b[1m1s\u001b[0m 6ms/step - accuracy: 0.9948 - loss: 0.0188 - val_accuracy: 0.9900 - val_loss: 0.0397\n",
      "Epoch 8/50\n",
      "\u001b[1m100/100\u001b[0m \u001b[32m━━━━━━━━━━━━━━━━━━━━\u001b[0m\u001b[37m\u001b[0m \u001b[1m1s\u001b[0m 6ms/step - accuracy: 0.9948 - loss: 0.0175 - val_accuracy: 0.9900 - val_loss: 0.0393\n",
      "Epoch 9/50\n",
      "\u001b[1m100/100\u001b[0m \u001b[32m━━━━━━━━━━━━━━━━━━━━\u001b[0m\u001b[37m\u001b[0m \u001b[1m1s\u001b[0m 6ms/step - accuracy: 0.9953 - loss: 0.0166 - val_accuracy: 0.9900 - val_loss: 0.0391\n",
      "Epoch 10/50\n",
      "\u001b[1m100/100\u001b[0m \u001b[32m━━━━━━━━━━━━━━━━━━━━\u001b[0m\u001b[37m\u001b[0m \u001b[1m1s\u001b[0m 5ms/step - accuracy: 0.9954 - loss: 0.0157 - val_accuracy: 0.9912 - val_loss: 0.0394\n",
      "Epoch 11/50\n",
      "\u001b[1m100/100\u001b[0m \u001b[32m━━━━━━━━━━━━━━━━━━━━\u001b[0m\u001b[37m\u001b[0m \u001b[1m1s\u001b[0m 7ms/step - accuracy: 0.9954 - loss: 0.0150 - val_accuracy: 0.9912 - val_loss: 0.0394\n",
      "Epoch 12/50\n",
      "\u001b[1m100/100\u001b[0m \u001b[32m━━━━━━━━━━━━━━━━━━━━\u001b[0m\u001b[37m\u001b[0m \u001b[1m1s\u001b[0m 6ms/step - accuracy: 0.9957 - loss: 0.0143 - val_accuracy: 0.9900 - val_loss: 0.0400\n",
      "Epoch 13/50\n",
      "\u001b[1m100/100\u001b[0m \u001b[32m━━━━━━━━━━━━━━━━━━━━\u001b[0m\u001b[37m\u001b[0m \u001b[1m1s\u001b[0m 6ms/step - accuracy: 0.9957 - loss: 0.0138 - val_accuracy: 0.9900 - val_loss: 0.0403\n",
      "Epoch 14/50\n",
      "\u001b[1m100/100\u001b[0m \u001b[32m━━━━━━━━━━━━━━━━━━━━\u001b[0m\u001b[37m\u001b[0m \u001b[1m1s\u001b[0m 6ms/step - accuracy: 0.9957 - loss: 0.0133 - val_accuracy: 0.9900 - val_loss: 0.0405\n",
      "Epoch 15/50\n",
      "\u001b[1m100/100\u001b[0m \u001b[32m━━━━━━━━━━━━━━━━━━━━\u001b[0m\u001b[37m\u001b[0m \u001b[1m1s\u001b[0m 6ms/step - accuracy: 0.9957 - loss: 0.0127 - val_accuracy: 0.9900 - val_loss: 0.0415\n",
      "Epoch 16/50\n",
      "\u001b[1m100/100\u001b[0m \u001b[32m━━━━━━━━━━━━━━━━━━━━\u001b[0m\u001b[37m\u001b[0m \u001b[1m1s\u001b[0m 5ms/step - accuracy: 0.9957 - loss: 0.0123 - val_accuracy: 0.9900 - val_loss: 0.0422\n",
      "Epoch 17/50\n",
      "\u001b[1m100/100\u001b[0m \u001b[32m━━━━━━━━━━━━━━━━━━━━\u001b[0m\u001b[37m\u001b[0m \u001b[1m1s\u001b[0m 6ms/step - accuracy: 0.9957 - loss: 0.0117 - val_accuracy: 0.9900 - val_loss: 0.0424\n",
      "Epoch 18/50\n",
      "\u001b[1m100/100\u001b[0m \u001b[32m━━━━━━━━━━━━━━━━━━━━\u001b[0m\u001b[37m\u001b[0m \u001b[1m1s\u001b[0m 5ms/step - accuracy: 0.9973 - loss: 0.0112 - val_accuracy: 0.9900 - val_loss: 0.0432\n",
      "Epoch 19/50\n",
      "\u001b[1m100/100\u001b[0m \u001b[32m━━━━━━━━━━━━━━━━━━━━\u001b[0m\u001b[37m\u001b[0m \u001b[1m1s\u001b[0m 6ms/step - accuracy: 0.9974 - loss: 0.0109 - val_accuracy: 0.9900 - val_loss: 0.0436\n",
      "Epoch 20/50\n",
      "\u001b[1m100/100\u001b[0m \u001b[32m━━━━━━━━━━━━━━━━━━━━\u001b[0m\u001b[37m\u001b[0m \u001b[1m1s\u001b[0m 5ms/step - accuracy: 0.9981 - loss: 0.0105 - val_accuracy: 0.9925 - val_loss: 0.0441\n",
      "Epoch 21/50\n",
      "\u001b[1m100/100\u001b[0m \u001b[32m━━━━━━━━━━━━━━━━━━━━\u001b[0m\u001b[37m\u001b[0m \u001b[1m1s\u001b[0m 6ms/step - accuracy: 0.9981 - loss: 0.0103 - val_accuracy: 0.9925 - val_loss: 0.0447\n",
      "Epoch 22/50\n",
      "\u001b[1m100/100\u001b[0m \u001b[32m━━━━━━━━━━━━━━━━━━━━\u001b[0m\u001b[37m\u001b[0m \u001b[1m1s\u001b[0m 6ms/step - accuracy: 0.9981 - loss: 0.0098 - val_accuracy: 0.9925 - val_loss: 0.0454\n",
      "Epoch 23/50\n",
      "\u001b[1m100/100\u001b[0m \u001b[32m━━━━━━━━━━━━━━━━━━━━\u001b[0m\u001b[37m\u001b[0m \u001b[1m1s\u001b[0m 6ms/step - accuracy: 0.9981 - loss: 0.0095 - val_accuracy: 0.9925 - val_loss: 0.0453\n",
      "Epoch 24/50\n",
      "\u001b[1m100/100\u001b[0m \u001b[32m━━━━━━━━━━━━━━━━━━━━\u001b[0m\u001b[37m\u001b[0m \u001b[1m1s\u001b[0m 5ms/step - accuracy: 0.9981 - loss: 0.0093 - val_accuracy: 0.9925 - val_loss: 0.0460\n",
      "Epoch 25/50\n",
      "\u001b[1m100/100\u001b[0m \u001b[32m━━━━━━━━━━━━━━━━━━━━\u001b[0m\u001b[37m\u001b[0m \u001b[1m1s\u001b[0m 6ms/step - accuracy: 0.9981 - loss: 0.0087 - val_accuracy: 0.9925 - val_loss: 0.0460\n",
      "Epoch 26/50\n",
      "\u001b[1m100/100\u001b[0m \u001b[32m━━━━━━━━━━━━━━━━━━━━\u001b[0m\u001b[37m\u001b[0m \u001b[1m1s\u001b[0m 5ms/step - accuracy: 0.9983 - loss: 0.0085 - val_accuracy: 0.9925 - val_loss: 0.0467\n",
      "Epoch 27/50\n",
      "\u001b[1m100/100\u001b[0m \u001b[32m━━━━━━━━━━━━━━━━━━━━\u001b[0m\u001b[37m\u001b[0m \u001b[1m1s\u001b[0m 7ms/step - accuracy: 0.9981 - loss: 0.0081 - val_accuracy: 0.9925 - val_loss: 0.0469\n",
      "Epoch 28/50\n",
      "\u001b[1m100/100\u001b[0m \u001b[32m━━━━━━━━━━━━━━━━━━━━\u001b[0m\u001b[37m\u001b[0m \u001b[1m1s\u001b[0m 6ms/step - accuracy: 0.9984 - loss: 0.0079 - val_accuracy: 0.9925 - val_loss: 0.0484\n",
      "Epoch 29/50\n",
      "\u001b[1m100/100\u001b[0m \u001b[32m━━━━━━━━━━━━━━━━━━━━\u001b[0m\u001b[37m\u001b[0m \u001b[1m1s\u001b[0m 6ms/step - accuracy: 0.9984 - loss: 0.0076 - val_accuracy: 0.9925 - val_loss: 0.0484\n",
      "Epoch 30/50\n",
      "\u001b[1m100/100\u001b[0m \u001b[32m━━━━━━━━━━━━━━━━━━━━\u001b[0m\u001b[37m\u001b[0m \u001b[1m1s\u001b[0m 7ms/step - accuracy: 0.9984 - loss: 0.0075 - val_accuracy: 0.9925 - val_loss: 0.0481\n",
      "Epoch 31/50\n",
      "\u001b[1m100/100\u001b[0m \u001b[32m━━━━━━━━━━━━━━━━━━━━\u001b[0m\u001b[37m\u001b[0m \u001b[1m1s\u001b[0m 6ms/step - accuracy: 0.9988 - loss: 0.0071 - val_accuracy: 0.9925 - val_loss: 0.0497\n",
      "Epoch 32/50\n",
      "\u001b[1m100/100\u001b[0m \u001b[32m━━━━━━━━━━━━━━━━━━━━\u001b[0m\u001b[37m\u001b[0m \u001b[1m1s\u001b[0m 5ms/step - accuracy: 0.9988 - loss: 0.0069 - val_accuracy: 0.9925 - val_loss: 0.0505\n",
      "Epoch 33/50\n",
      "\u001b[1m100/100\u001b[0m \u001b[32m━━━━━━━━━━━━━━━━━━━━\u001b[0m\u001b[37m\u001b[0m \u001b[1m1s\u001b[0m 6ms/step - accuracy: 0.9988 - loss: 0.0067 - val_accuracy: 0.9925 - val_loss: 0.0501\n",
      "Epoch 34/50\n",
      "\u001b[1m100/100\u001b[0m \u001b[32m━━━━━━━━━━━━━━━━━━━━\u001b[0m\u001b[37m\u001b[0m \u001b[1m1s\u001b[0m 5ms/step - accuracy: 0.9988 - loss: 0.0066 - val_accuracy: 0.9912 - val_loss: 0.0512\n",
      "Epoch 35/50\n",
      "\u001b[1m100/100\u001b[0m \u001b[32m━━━━━━━━━━━━━━━━━━━━\u001b[0m\u001b[37m\u001b[0m \u001b[1m1s\u001b[0m 6ms/step - accuracy: 0.9988 - loss: 0.0061 - val_accuracy: 0.9912 - val_loss: 0.0518\n",
      "Epoch 36/50\n",
      "\u001b[1m100/100\u001b[0m \u001b[32m━━━━━━━━━━━━━━━━━━━━\u001b[0m\u001b[37m\u001b[0m \u001b[1m1s\u001b[0m 6ms/step - accuracy: 0.9988 - loss: 0.0063 - val_accuracy: 0.9912 - val_loss: 0.0507\n",
      "Epoch 37/50\n",
      "\u001b[1m100/100\u001b[0m \u001b[32m━━━━━━━━━━━━━━━━━━━━\u001b[0m\u001b[37m\u001b[0m \u001b[1m1s\u001b[0m 6ms/step - accuracy: 0.9988 - loss: 0.0059 - val_accuracy: 0.9912 - val_loss: 0.0525\n",
      "Epoch 38/50\n",
      "\u001b[1m100/100\u001b[0m \u001b[32m━━━━━━━━━━━━━━━━━━━━\u001b[0m\u001b[37m\u001b[0m \u001b[1m1s\u001b[0m 5ms/step - accuracy: 0.9988 - loss: 0.0054 - val_accuracy: 0.9912 - val_loss: 0.0532\n",
      "Epoch 39/50\n",
      "\u001b[1m100/100\u001b[0m \u001b[32m━━━━━━━━━━━━━━━━━━━━\u001b[0m\u001b[37m\u001b[0m \u001b[1m1s\u001b[0m 7ms/step - accuracy: 0.9988 - loss: 0.0058 - val_accuracy: 0.9912 - val_loss: 0.0522\n",
      "Epoch 40/50\n",
      "\u001b[1m100/100\u001b[0m \u001b[32m━━━━━━━━━━━━━━━━━━━━\u001b[0m\u001b[37m\u001b[0m \u001b[1m1s\u001b[0m 5ms/step - accuracy: 0.9988 - loss: 0.0052 - val_accuracy: 0.9912 - val_loss: 0.0518\n",
      "Epoch 41/50\n",
      "\u001b[1m100/100\u001b[0m \u001b[32m━━━━━━━━━━━━━━━━━━━━\u001b[0m\u001b[37m\u001b[0m \u001b[1m1s\u001b[0m 6ms/step - accuracy: 0.9988 - loss: 0.0050 - val_accuracy: 0.9900 - val_loss: 0.0542\n",
      "Epoch 42/50\n",
      "\u001b[1m100/100\u001b[0m \u001b[32m━━━━━━━━━━━━━━━━━━━━\u001b[0m\u001b[37m\u001b[0m \u001b[1m1s\u001b[0m 5ms/step - accuracy: 0.9989 - loss: 0.0052 - val_accuracy: 0.9912 - val_loss: 0.0539\n",
      "Epoch 43/50\n",
      "\u001b[1m100/100\u001b[0m \u001b[32m━━━━━━━━━━━━━━━━━━━━\u001b[0m\u001b[37m\u001b[0m \u001b[1m1s\u001b[0m 6ms/step - accuracy: 0.9989 - loss: 0.0048 - val_accuracy: 0.9925 - val_loss: 0.0542\n",
      "Epoch 44/50\n",
      "\u001b[1m100/100\u001b[0m \u001b[32m━━━━━━━━━━━━━━━━━━━━\u001b[0m\u001b[37m\u001b[0m \u001b[1m1s\u001b[0m 6ms/step - accuracy: 0.9989 - loss: 0.0047 - val_accuracy: 0.9912 - val_loss: 0.0536\n",
      "Epoch 45/50\n",
      "\u001b[1m100/100\u001b[0m \u001b[32m━━━━━━━━━━━━━━━━━━━━\u001b[0m\u001b[37m\u001b[0m \u001b[1m1s\u001b[0m 6ms/step - accuracy: 0.9989 - loss: 0.0046 - val_accuracy: 0.9925 - val_loss: 0.0532\n",
      "Epoch 46/50\n",
      "\u001b[1m100/100\u001b[0m \u001b[32m━━━━━━━━━━━━━━━━━━━━\u001b[0m\u001b[37m\u001b[0m \u001b[1m1s\u001b[0m 5ms/step - accuracy: 0.9989 - loss: 0.0043 - val_accuracy: 0.9912 - val_loss: 0.0543\n",
      "Epoch 47/50\n",
      "\u001b[1m100/100\u001b[0m \u001b[32m━━━━━━━━━━━━━━━━━━━━\u001b[0m\u001b[37m\u001b[0m \u001b[1m1s\u001b[0m 6ms/step - accuracy: 0.9989 - loss: 0.0043 - val_accuracy: 0.9900 - val_loss: 0.0553\n",
      "Epoch 48/50\n",
      "\u001b[1m100/100\u001b[0m \u001b[32m━━━━━━━━━━━━━━━━━━━━\u001b[0m\u001b[37m\u001b[0m \u001b[1m1s\u001b[0m 6ms/step - accuracy: 0.9989 - loss: 0.0041 - val_accuracy: 0.9887 - val_loss: 0.0570\n",
      "Epoch 49/50\n",
      "\u001b[1m100/100\u001b[0m \u001b[32m━━━━━━━━━━━━━━━━━━━━\u001b[0m\u001b[37m\u001b[0m \u001b[1m1s\u001b[0m 6ms/step - accuracy: 0.9989 - loss: 0.0040 - val_accuracy: 0.9900 - val_loss: 0.0535\n",
      "Epoch 50/50\n",
      "\u001b[1m100/100\u001b[0m \u001b[32m━━━━━━━━━━━━━━━━━━━━\u001b[0m\u001b[37m\u001b[0m \u001b[1m1s\u001b[0m 6ms/step - accuracy: 0.9989 - loss: 0.0038 - val_accuracy: 0.9900 - val_loss: 0.0560\n"
     ]
    }
   ],
   "source": [
    "#fit the model\n",
    "history = model.fit(x_train, y_train, epochs = 50, batch_size = 32, validation_split = 0.2)"
   ]
  },
  {
   "cell_type": "code",
   "execution_count": 37,
   "id": "ef67d510-16c2-4954-9960-933edeec6d07",
   "metadata": {},
   "outputs": [
    {
     "data": {
      "text/plain": [
       "dict_keys(['accuracy', 'loss', 'val_accuracy', 'val_loss'])"
      ]
     },
     "execution_count": 37,
     "metadata": {},
     "output_type": "execute_result"
    }
   ],
   "source": [
    "#lets plot the curves to see if there is any overfitting \n",
    "history_dict = history.history\n",
    "history_dict.keys()"
   ]
  },
  {
   "cell_type": "code",
   "execution_count": 38,
   "id": "3ecac3d0-2ed8-4b2d-9bce-0f00b14e8681",
   "metadata": {},
   "outputs": [
    {
     "data": {
      "image/png": "[encoded data removed]",
      "text/plain": [
       "<Figure size 640x480 with 1 Axes>"
      ]
     },
     "metadata": {},
     "output_type": "display_data"
    }
   ],
   "source": [
    "loss_values = history_dict[\"loss\"]\n",
    "val_loss_values = history_dict[\"val_loss\"]\n",
    "epochs = range(1, len(loss_values) + 1)\n",
    "plt.plot(epochs, loss_values, \"bo\", label= \"Training loss\")\n",
    "plt.plot(epochs, val_loss_values, \"b\", label = \"Validation loss\")\n",
    "plt.title(\"Training and Validation Loss Comparison\")\n",
    "plt.xlabel(\"Epochs\")\n",
    "plt.ylabel(\"Loss\")\n",
    "plt.legend()\n",
    "plt.show()"
   ]
  },
  {
   "cell_type": "code",
   "execution_count": 39,
   "id": "f7a703e7-d486-429e-ad15-b0c405175f4c",
   "metadata": {},
   "outputs": [
    {
     "data": {
      "image/png": "[encoded data removed]",
      "text/plain": [
       "<Figure size 640x480 with 1 Axes>"
      ]
     },
     "metadata": {},
     "output_type": "display_data"
    }
   ],
   "source": [
    "# lets visualize accuracy curves as well\n",
    "plt.clf()\n",
    "acc = history_dict[\"accuracy\"]\n",
    "val_acc = history_dict[\"val_accuracy\"]\n",
    "plt.plot(epochs, acc, \"bo\", label = \"Training Accuracy\")\n",
    "plt.plot(epochs, val_acc, \"b\", label = \"Validation Accuracy\")\n",
    "plt.title(\"Training and Valudation Accuracy Comparison\")\n",
    "plt.xlabel(\"Epochs\")\n",
    "plt.ylabel(\"Accuracy\")\n",
    "plt.legend()\n",
    "plt.show()"
   ]
  },
  {
   "cell_type": "markdown",
   "id": "be095fdd-92ba-4421-a089-1e9ffa0de948",
   "metadata": {},
   "source": [
    "#### Model Evaluation"
   ]
  },
  {
   "cell_type": "code",
   "execution_count": 40,
   "id": "68693820-7f14-4c4d-9803-c2e6e47fc991",
   "metadata": {},
   "outputs": [
    {
     "name": "stdout",
     "output_type": "stream",
     "text": [
      "\u001b[1m32/32\u001b[0m \u001b[32m━━━━━━━━━━━━━━━━━━━━\u001b[0m\u001b[37m\u001b[0m \u001b[1m1s\u001b[0m 6ms/step - accuracy: 0.9871 - loss: 0.0359\n"
     ]
    }
   ],
   "source": [
    "score, acc = model.evaluate(x_test, y_test)"
   ]
  },
  {
   "cell_type": "code",
   "execution_count": 42,
   "id": "777de7c5-7d93-4bdd-b761-f4e6e2764a75",
   "metadata": {},
   "outputs": [
    {
     "data": {
      "text/plain": [
       "Target\n",
       "1.0    0.584034\n",
       "0.0    0.415966\n",
       "Name: proportion, dtype: float64"
      ]
     },
     "execution_count": 42,
     "metadata": {},
     "output_type": "execute_result"
    }
   ],
   "source": [
    "#compare to simple baseline model\n",
    "y.value_counts(normalize = True)"
   ]
  },
  {
   "cell_type": "markdown",
   "id": "7bcc63ec-81f3-450c-a62e-17959b626829",
   "metadata": {},
   "source": [
    "Much better than just guessing that 58% of the patients have no anomaly. "
   ]
  },
  {
   "cell_type": "markdown",
   "id": "50862de8-2986-40a0-989a-af3b028d48c1",
   "metadata": {},
   "source": [
    "#### The END!"
   ]
  }
 ],
 "metadata": {
  "kernelspec": {
   "display_name": "Python (tf_env1)",
   "language": "python",
   "name": "tf_env1"
  },
  "language_info": {
   "codemirror_mode": {
    "name": "ipython",
    "version": 3
   },
   "file_extension": ".py",
   "mimetype": "text/x-python",
   "name": "python",
   "nbconvert_exporter": "python",
   "pygments_lexer": "ipython3",
   "version": "3.10.16"
  }
 },
 "nbformat": 4,
 "nbformat_minor": 5
}
